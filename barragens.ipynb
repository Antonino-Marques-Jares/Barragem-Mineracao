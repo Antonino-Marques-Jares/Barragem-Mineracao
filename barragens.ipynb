{
 "cells": [
  {
   "cell_type": "markdown",
   "id": "2c11bb4c",
   "metadata": {},
   "source": [
    "# Barragens no Brasil\n",
    "\n",
    "**Fonte:**\n",
    "\n",
    "  - **Informações das Barragens:** https://dados.gov.br/dados/conjuntos-dados/barragens-de-mineracao\n",
    "\n",
    "  - **Atualizada em :** 19/06/2025\n",
    "\n",
    "**Autor:** \n",
    "Antonino Marques Jares"
   ]
  },
  {
   "cell_type": "code",
   "execution_count": 1,
   "id": "29c37199",
   "metadata": {},
   "outputs": [
    {
     "name": "stdout",
     "output_type": "stream",
     "text": [
      "['ID', 'Nome', 'Empreendedor', 'CPF_CNPJ', 'Nome da mina', 'UF', 'Município', 'Latitude', 'Longitude', 'Posicionamento', 'Categoria de Risco - CRI', 'Dano Potencial Associado - DPA', 'Gestão Operacional', 'Necessita de PAEBM', 'Inserido na PNSB', 'Nível de Emergência', 'Status DCE RISR', 'Status DCE RPSB', 'Status da DCO Atual', 'Tipo de Barragem de Mineração', 'A Barragem de Mineração possui outra estrutura de mineração interna selante de reservatório', 'Quantidade Diques Internos', 'Quantidade Diques Selantes', 'A barragem de mineração possui Back Up Dam', 'Esta Back Up Dam está operando pós rompimento da barragem de mineração', 'Situação Operacional', 'Data de Início de Construção', 'Data de Início de Operação', 'Estrutura com o Objetivo de Contenção', 'A Barragem de Mineração está dentro da Área do Processo ANM ou da Área de Servidão', 'Barragem de mineração é alimentado por usina', 'Usinas', 'Minério principal presente no reservatório', 'Processo de beneficiamento', 'Produtos químicos utilizados', 'A Barragem armazena rejeitos/residuos que contenham Cianeto', 'Teor (%) do minério principal inserido no rejeito', 'Outras substâncias minerais presentes no reservatório', 'Altura máxima do projeto licenciado (m)', 'Altura máxima atual (m)', 'Comprimento da crista do projeto (m)', 'Comprimento atual da crista (m)', 'Descarga máxima do vertedouro (m³/seg)', 'Área do reservatório (m²)', 'Tipo de barragem quanto ao material de construção', 'Tipo de fundação', 'Fundação', 'Tempo de Recorrência da Vazão de Projeto', 'Drenagem Interna', 'Controle de Compactação', 'Inclinação Média dos taludes na seção principal', 'Método construtivo da barragem', 'Tipo de alteamento', 'Instrumentação', 'A Barragem de Mineração possui Manta Impermeabilizante', 'Confiabilidade das estruturas extravasora', 'Percolação', 'Deformações e recalque', 'Deteriorização dos taludes / paramentos', 'Drenagem superficial', 'Documentação de projeto', 'Estrutura organizacional e qualificação técnica dos profissionais na equipe de Segurança da Barragem', 'Manuais de Procedimentos para Inspeções de Segurança e Monitoramento', 'PAE - Plano de Ação Emergencial (quando exigido pelo órgão fiscalizador)', 'As cópias físicas do PAEBM foram entregues para as Prefeituras e Defesas Civis municipais e estaduais', 'Relatórios de inspeção e monitoramento da instrumentação e de Análise de Segurança', 'Possui\\xa0certificações em vigor e/ou adota padrões da indústria', 'Quais certificações e/ou padrões', 'Volume de projeto licenciado do Reservatório (m³)', 'Volume atual do Reservatório (m³)', 'Capacidade Total do Reservatório (m³)', 'Existência de população a jusante', 'Número de pessoas possivelmente afetadas a jusante em caso de rompimento da barragem', 'Impacto ambiental', 'Impacto sócio-econômico', 'Data da Finalização da DCE', 'Motivo de Envio', 'RT/Declaração', 'RT/Empreendimento', 'O projeto e/ou manual de operação da barragem prevê a existência de linha de praia no reservatório?', 'A Largura da linha de praia exigida em projeto e/ou manual de operação (m)', 'Menor largura da linha de praia atual (m)', 'Data de Finalização do Último Alteamento', 'Cota da Crista Atual (m)', 'Fase Atual do projeto de Descaracterização', 'Data de emissão do projeto Básico de Descaracterização', 'Data estimada de emissão do projeto executivo de Descaracterização', 'Data de emissão do projeto executivo de Descaracterização', 'Qual foi a solução adotada para a descaracterização?', 'Descrição da Estrutura Remanescente', 'Data de início das obras de estabilização ou descaracterização', 'Duração estimada em projeto das obras de estabilização ou descaracterização(em meses)', 'A barragem voltará a operar?', 'Data de conclusão das obras de estabilização ou descaracterização', 'Data de Início do Monitoramento Ativo', 'Duração estimada em projeto do monitoramento ativo (em meses)', 'Data de Início do Monitoramento Passivo', 'Data de conclusão estimada em projeto Monitoramento Passivo', 'Nome da Back Up Dam', 'UF (Back Up Dam)', 'Município (Back Up Dam)', 'Situação operacional da Back Up Dam', 'Desde (Back Up Dam)', 'Vida útil prevista da Back Up Dam (Anos)', 'Previsão de término de construção da Back Up Dam', 'A Back Up Dam está dentro da Área do Processo ANM ou da Área de Servidão', 'Processos associados (Back Up Dam)', 'Posicionamento (Back Up Dam)', 'Latitude (Back Up Dam)', 'Longitude (Back Up Dam)', 'Altura Máxima do projeto da Back Up Dam (m)', 'Comprimento da Crista do projeto da Back Up Dam (m)', 'Volume do projeto da Back Up Dam (m³)', 'Descarga Máxima do vertedouro da Back Up Dam (m³/seg)', 'Existe documento que ateste a segurança estrutural e a capacidade para contenção de rejeitos da Back Up Dam com ART', 'Existe manual de operação da Back Up Dam', 'A Back up Dam passou por auditoria de terceira parte', 'A Back Up Dam garante a redução da área da mancha de inundação à jusante', 'Tipo de Back Up Dam quanto ao material de construção', 'Tipo de fundação da Back Up Dam', 'Vazão de projeto da Back Up Dam', 'Método construtivo da Back Up Dam', 'Tipo de auscultação da Back Up Dam']\n",
      "Fim\n"
     ]
    },
    {
     "name": "stderr",
     "output_type": "stream",
     "text": [
      "C:\\Users\\Nino\\AppData\\Local\\Temp\\ipykernel_7420\\3733273309.py:6: ParserWarning: Skipping line 259: expected 123 fields, saw 124\n",
      "\n",
      "  df = pd.read_csv(\n"
     ]
    }
   ],
   "source": [
    "import pandas as pd\n",
    "try:\n",
    "    # colocar o seu diretório do projeto em url\n",
    "    url = rf\"C:\\Users\\Nino\\AnacondaProjects\\barragens\"\n",
    "    planilha = rf\"{url}\\Barragens.csv\"\n",
    "    df = pd.read_csv(\n",
    "        planilha, \n",
    "        sep=\",\", \n",
    "        encoding='latin-1', \n",
    "        on_bad_lines='warn'\n",
    "    )\n",
    "    colunas = df.columns.tolist()  # Converte para lista\n",
    "    print(colunas)\n",
    "except Exception as e:\n",
    "    print(f\"\\nERRO CRÍTICO: {str(e)}\")\n",
    "\n",
    "finally:\n",
    "    print(\"Fim\")"
   ]
  },
  {
   "cell_type": "code",
   "execution_count": 2,
   "id": "ab7797c1",
   "metadata": {},
   "outputs": [
    {
     "name": "stdout",
     "output_type": "stream",
     "text": [
      "Fim\n"
     ]
    },
    {
     "name": "stderr",
     "output_type": "stream",
     "text": [
      "C:\\Users\\Nino\\AppData\\Local\\Temp\\ipykernel_7420\\543602722.py:3: ParserWarning: Skipping line 259: expected 123 fields, saw 124\n",
      "\n",
      "  df = pd.read_csv(\n"
     ]
    }
   ],
   "source": [
    "try:\n",
    "    planilha = rf\"{url}\\Barragens.csv\"\n",
    "    df = pd.read_csv(\n",
    "        planilha, \n",
    "        sep=\",\", \n",
    "        encoding='latin-1', \n",
    "        on_bad_lines='warn'\n",
    "    )\n",
    "    df = df.rename(columns={\n",
    "            'ID': 'ID',\n",
    "            'Nome da mina': 'MINA',\n",
    "            'UF': 'UF',\n",
    "            'Município': 'MUNICIPIO',\n",
    "            'Latitude': 'LATITUDE',\n",
    "            'Longitude': 'LONGITUDE',\n",
    "            'Categoria de Risco - CRI': 'RISCO'\n",
    "        })\n",
    "    colunas_selecionadas = [\"ID\",\"MINA\", \"UF\", \"MUNICIPIO\", \"LATITUDE\",\"LONGITUDE\",\"RISCO\"]  \n",
    "    df = df[colunas_selecionadas]\n",
    "    df['MINA'] = df['MINA'].fillna('Nome da mina não informado')\n",
    "    df['RISCO'] = df['RISCO'].fillna('Não informado')\n",
    "    \n",
    "    df.to_csv(\n",
    "        rf\"{url}\\Resumo.csv\",\n",
    "        sep=\",\",          # Delimitador\n",
    "        encoding='latin-1', \n",
    "        index=False,      # Não salvar o índice\n",
    "    )\n",
    "except Exception as e:\n",
    "    print(f\"\\nERRO CRÍTICO: {str(e)}\")\n",
    "\n",
    "finally:\n",
    "    print(\"Fim\")"
   ]
  },
  {
   "cell_type": "code",
   "execution_count": 3,
   "id": "1efbc290",
   "metadata": {},
   "outputs": [
    {
     "name": "stdout",
     "output_type": "stream",
     "text": [
      "Arquivo JSON salvo\n",
      "Fim\n"
     ]
    }
   ],
   "source": [
    "try:\n",
    "    planilha = rf\"{url}\\Resumo.csv\"\n",
    "    df = pd.read_csv(\n",
    "        planilha, \n",
    "        sep=\",\", \n",
    "        encoding='latin-1', \n",
    "        on_bad_lines='warn'\n",
    "    )\n",
    "    # Converter para JSON mantendo a estrutura pivotada\n",
    "    json_pivot = df.to_json(orient='records', indent=4)\n",
    "\n",
    "    # Salvar em arquivo (opcional)\n",
    "    with open('dados_pescadores_no_brasil.json', 'w', encoding='utf-8') as f:\n",
    "        f.write(json_pivot)\n",
    "\n",
    "    df.to_json(\n",
    "        rf\"C:\\Users\\Nino\\AnacondaProjects\\barragens\\minas.json\",\n",
    "        orient='records',  # Formato mais comum (lista de objetos)\n",
    "        force_ascii=False,  # Preserva caracteres especiais (ç, á, etc.)\n",
    "        indent=4  # Formatação legível (opcional)\n",
    "    )\n",
    "    print(f\"Arquivo JSON salvo\")\n",
    "except Exception as e:\n",
    "    print(f\"\\nERRO CRÍTICO: {str(e)}\")\n",
    "\n",
    "finally:\n",
    "    print(\"Fim\")"
   ]
  }
 ],
 "metadata": {
  "kernelspec": {
   "display_name": "venv_jupyter",
   "language": "python",
   "name": "python3"
  },
  "language_info": {
   "codemirror_mode": {
    "name": "ipython",
    "version": 3
   },
   "file_extension": ".py",
   "mimetype": "text/x-python",
   "name": "python",
   "nbconvert_exporter": "python",
   "pygments_lexer": "ipython3",
   "version": "3.9.23"
  }
 },
 "nbformat": 4,
 "nbformat_minor": 5
}
